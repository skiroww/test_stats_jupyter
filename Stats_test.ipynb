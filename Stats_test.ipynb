{
 "cells": [
  {
   "cell_type": "code",
   "execution_count": 12,
   "id": "80ee37ad",
   "metadata": {},
   "outputs": [],
   "source": [
    "import numpy as np\n",
    "import matplotlib.pyplot as plot\n",
    "import scipy.stats as st\n",
    "#learning scipy and matplotlib here to master the programming project later on"
   ]
  },
  {
   "cell_type": "markdown",
   "id": "52175880",
   "metadata": {
    "tags": [
     "Normal_Distribution"
    ]
   },
   "source": [
    "### Trying normal distribution sampling "
   ]
  },
  {
   "cell_type": "code",
   "execution_count": 37,
   "id": "fc95f5f8",
   "metadata": {},
   "outputs": [
    {
     "data": {
      "image/png": "[encoded data removed]",
      "text/plain": [
       "<Figure size 432x288 with 1 Axes>"
      ]
     },
     "metadata": {
      "needs_background": "light"
     },
     "output_type": "display_data"
    }
   ],
   "source": [
    "\n",
    "size = 200 \n",
    "stand_div = 1\n",
    "mean_std = 0\n",
    "sample = st.norm.rvs(mean_std, stand_div, size)\n",
    "plot.hist(sample, density=False, histtype='stepfilled', color='lightblue', bins = 30)\n",
    "plot.show()"
   ]
  },
  {
   "cell_type": "code",
   "execution_count": 59,
   "id": "d16e3181",
   "metadata": {},
   "outputs": [
    {
     "data": {
      "text/plain": [
       "[<matplotlib.lines.Line2D at 0x7fa45af8e6a0>]"
      ]
     },
     "execution_count": 59,
     "metadata": {},
     "output_type": "execute_result"
    },
    {
     "data": {
      "image/png": "[encoded data removed]",
      "text/plain": [
       "<Figure size 432x288 with 1 Axes>"
      ]
     },
     "metadata": {
      "needs_background": "light"
     },
     "output_type": "display_data"
    }
   ],
   "source": [
    "# compare to normal pdf of normal distr\n",
    "my_axis = np.arange(-5,5, 0.01)\n",
    "mean = 0\n",
    "stddv = 1\n",
    "plot.plot(my_axis, st.norm.pdf(my_axis, mean, stddv))\n",
    "#doesn't really seem familiar to the sample so far "
   ]
  },
  {
   "cell_type": "code",
   "execution_count": 60,
   "id": "1144ff8d",
   "metadata": {
    "scrolled": true
   },
   "outputs": [
    {
     "data": {
      "image/png": "[encoded data removed]",
      "text/plain": [
       "<Figure size 432x288 with 1 Axes>"
      ]
     },
     "metadata": {
      "needs_background": "light"
     },
     "output_type": "display_data"
    },
    {
     "name": "stdout",
     "output_type": "stream",
     "text": [
      "(0.008873204297838222, 0.04177027683686768)\n",
      "(0.00893201990443793, 0.04171146123026798)\n"
     ]
    }
   ],
   "source": [
    "# now change the size to 10000 and see the changes(maybe not...)\n",
    "\n",
    "size = 10000\n",
    "stand_div = 1\n",
    "mean_std = 0\n",
    "sample = st.norm.rvs(mean_std, stand_div, size)\n",
    "plot.hist(sample, density=True, histtype='stepfilled', color='lightblue', bins = 100 )\n",
    "plot.show()\n",
    "#now tis is much better\n",
    "#Now try the confidence interval for mean\n",
    "def z_sc(alpha_score):\n",
    "    return st.norm.isf(alpha_score/2)\n",
    "def smpl_mean(sample):\n",
    "    return np.mean(sample)\n",
    "def my_interval(smpl, stddv, alpha):\n",
    "    _mean  = smpl_mean(sample)\n",
    "    leng = len(sample)\n",
    "    zscore = z_sc(alpha)\n",
    "    return (_mean - stddv*zscore/np.sqrt(leng),_mean + stddv*zscore/np.sqrt(leng) )\n",
    "print(my_interval( sample, 1, 0.1)) # 90% sonfidence interval\n",
    "# now let's use this exact sample's std ( assuming the population std is unknown)\n",
    "\n",
    "def t_sc(freedom, alpha):\n",
    "    return st.t.isf(alpha/2, freedom)\n",
    "def sample_std(sample, n):\n",
    "     return np.sqrt((np.sum(sample**2) - n * smpl_mean(sample)**2) / (n - 1)) # formula for sample std\n",
    "def my_interval_unknown(sample, alpha):\n",
    "    mean_ = smpl_mean(sample)\n",
    "    leng = len(sample)\n",
    "    tsc =t_sc(leng -1, alpha)\n",
    "    samplestd = sample_std(sample, leng)\n",
    "    return(mean_ - tsc * samplestd / np.sqrt(leng), mean_ + tsc * samplestd / np.sqrt(leng))\n",
    "print(my_interval_unknown(sample, 0.1))\n",
    "#pretty close estimation for this sizes ( plug in any task on this to check...)"
   ]
  },
  {
   "cell_type": "markdown",
   "id": "ff414b0c",
   "metadata": {},
   "source": [
    "### Confidence interval for variance\n"
   ]
  },
  {
   "cell_type": "code",
   "execution_count": 66,
   "id": "779834f9",
   "metadata": {},
   "outputs": [
    {
     "name": "stdout",
     "output_type": "stream",
     "text": [
      "(0.9700025104070529, 1.0162010211225787)\n"
     ]
    }
   ],
   "source": [
    "def critical_value_chi(df, tail):\n",
    "    \n",
    "    return st.chi2.isf(tail, df)\n",
    "\n",
    "def confidendce_interval_chi(sample, alpha):\n",
    "    \n",
    "    n              = len(sample)\n",
    "    s              = sample_std(sample, n)\n",
    "    chi_crit_right = critical_value_chi(n-1, alpha / 2)\n",
    "    chi_crit_left  = critical_value_chi(n-1, 1 - alpha / 2)\n",
    "    \n",
    "    lower_bound = (n-1) * s**2 / chi_crit_right\n",
    "    upper_bound = (n-1) * s**2 / chi_crit_left\n",
    "    \n",
    "    return (lower_bound, upper_bound)\n",
    "print(confidendce_interval_chi(sample, 0.1))"
   ]
  },
  {
   "cell_type": "markdown",
   "id": "4161f687",
   "metadata": {},
   "source": [
    "###  Population Proportion confidence interval"
   ]
  },
  {
   "cell_type": "code",
   "execution_count": 72,
   "id": "a089ec80",
   "metadata": {},
   "outputs": [
    {
     "name": "stdout",
     "output_type": "stream",
     "text": [
      "(0.022737668189197174, 0.02790581294550873)\n",
      "(nan, nan)\n"
     ]
    },
    {
     "name": "stderr",
     "output_type": "stream",
     "text": [
      "/var/folders/kt/8pnx4rb10372fz63y2z655nh0000gn/T/ipykernel_90617/1841526069.py:9: RuntimeWarning: invalid value encountered in sqrt\n",
      "  return np.sqrt(p_hat * (1 - p_hat) / len(sample))\n"
     ]
    }
   ],
   "source": [
    "def sample_proportion(sample): # p \n",
    "    \n",
    "    return np.mean(sample)\n",
    "\n",
    "def estimated_sample_proportion_std(sample):\n",
    "    \n",
    "    p_hat = sample_proportion(sample)\n",
    "    return np.sqrt(p_hat * (1 - p_hat) / len(sample))\n",
    "\n",
    "def confidendce_interval_proportion(sample, alpha):\n",
    "    \n",
    "    p_hat  = sample_proportion(sample)\n",
    "    ese    = estimated_sample_proportion_std(sample)\n",
    "    z_crit = z_sc(alpha)\n",
    "    \n",
    "    lower_bound = p_hat - z_crit * ese\n",
    "    upper_bound = p_hat + z_crit * ese\n",
    "    \n",
    "    return (lower_bound, upper_bound)\n",
    "\n",
    "\n",
    "def confidendce_interval_proportion_difference(sample_x, sample_y, alpha):\n",
    "    \n",
    "    p_hat_x  = sample_proportion(sample_x)\n",
    "    ese_x    = estimated_sample_proportion_std(sample_x)\n",
    "    \n",
    "    p_hat_y  = sample_proportion(sample_y)\n",
    "    ese_y    = estimated_sample_proportion_std(sample_y)\n",
    "    \n",
    "    p_hat_xy = p_hat_x - p_hat_y\n",
    "    ese_xy   = np.sqrt(ese_x**2 + ese_y**2)\n",
    "    \n",
    "    z_crit   = z_sc(alpha)\n",
    "    \n",
    "    lower_bound = p_hat_xy - z_crit * ese_xy\n",
    "    upper_bound = p_hat_xy + z_crit * ese_xy\n",
    "    \n",
    "    return (lower_bound, upper_bound)\n",
    "SIZE = 40\n",
    "SAMPLE_X = st.bernoulli.rvs(0.4, size=SIZE)\n",
    "SAMPLE_Y = st.bernoulli.rvs(0,6, size=SIZE)\n",
    "\n",
    "\n",
    "print(confidendce_interval_proportion(sample, 0.1))\n",
    "#print(confidendce_interval_proportion_difference(SAMPLE_X, SAMPLE_Y, 0.1))"
   ]
  },
  {
   "cell_type": "code",
   "execution_count": null,
   "id": "b849e54d",
   "metadata": {},
   "outputs": [],
   "source": []
  }
 ],
 "metadata": {
  "kernelspec": {
   "display_name": "Python 3 (ipykernel)",
   "language": "python",
   "name": "python3"
  },
  "language_info": {
   "codemirror_mode": {
    "name": "ipython",
    "version": 3
   },
   "file_extension": ".py",
   "mimetype": "text/x-python",
   "name": "python",
   "nbconvert_exporter": "python",
   "pygments_lexer": "ipython3",
   "version": "3.8.8"
  }
 },
 "nbformat": 4,
 "nbformat_minor": 5
}
